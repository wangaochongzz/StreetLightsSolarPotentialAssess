{
 "cells": [
  {
   "cell_type": "code",
   "execution_count": 1,
   "id": "1b0b46fa",
   "metadata": {},
   "outputs": [
    {
     "name": "stderr",
     "output_type": "stream",
     "text": [
      "100%|██████████| 1/1 [00:02<00:00,  2.42s/it]\n"
     ]
    }
   ],
   "source": [
    "import cv2\n",
    "import numpy as np\n",
    "import math\n",
    "from math import pi,atan\n",
    "import os\n",
    "from tqdm import tqdm\n",
    "\n",
    "# 源文件夹路径\n",
    "source_folder = r\"C:\\Users\\wac\\Desktop\\fx\\img\\fisheye_sky\"\n",
    "# 目标文件夹路径\n",
    "save_folder = r\"C:\\Users\\wac\\Desktop\\fx\\img\\fisheye_sky2\"\n",
    "\n",
    "if not os.path.exists(save_folder):\n",
    "    os.mkdir(save_folder)\n",
    "    \n",
    "for file_name in tqdm(os.listdir(source_folder)):\n",
    "    if file_name.endswith(\".jpg\"):\n",
    "        # 1.全景图像转化为鱼眼图像\n",
    "        imgPath = os.path.join(source_folder,file_name)\n",
    "        img = cv2.imread(imgPath)\n",
    "        img = img[0:400, :]\n",
    "        height,width = img.shape[:2]\n",
    "        cx = width/(2*math.pi)\n",
    "        cy = width/(2*math.pi)\n",
    "        img_new = np.zeros((int(cx+1)*2,int(cx+1)*2,3),dtype=np.uint8)\n",
    "\n",
    "        for y in range(img_new.shape[1]):\n",
    "            for x in range(img_new.shape[0]):\n",
    "                if x < cx:\n",
    "                    theta = pi / 2 + atan((y - cy)/(x - cx))\n",
    "                else:\n",
    "                    theta = (pi*3) / 2 + atan((y - cy)/(x - cx))\n",
    "                r = np.sqrt((x - cx)**2 + (y - cy)**2)\n",
    "                x1 = (theta*width) / (2*pi)\n",
    "                y1 = (r*height) / cx\n",
    "                img_new[x][y] = cv2.getRectSubPix(img,(1,1),(x1,y1))\n",
    "                \n",
    "        mask = np.zeros_like(img_new)\n",
    "        mask = cv2.circle(mask,(int(cx+1),int(cx+1)),int(cx+1),(255,255,255),-1)\n",
    "        result = cv2.bitwise_and(img_new,mask)\n",
    "        \n",
    "        #保存进行方向校正之前的鱼眼图像\n",
    "        file_name_without_extension = os.path.splitext(file_name)[0]\n",
    "        savePath = os.path.join(save_folder, f\"{file_name_without_extension}_fisheye.jpg\")\n",
    "        cv2.imwrite(savePath, result)\n",
    "\n",
    "        # 2.鱼眼图方向矫正\n",
    "        # 对旋转后的图像（dst）进行水平镜像翻转\n",
    "        img_flipped = cv2.flip(result, 1)  # 参数 1 表示水平翻转\n",
    "\n",
    "        # 计算旋转中心点\n",
    "        height, width = img_flipped.shape[:2]\n",
    "        center_x, center_y = width // 2, height // 2\n",
    "\n",
    "        # 设置旋转角度\n",
    "        file_name = file_name.replace(\".jpg\", \"\")\n",
    "        split_names = file_name.split(\"_\")\n",
    "        northRotation = int(split_names[5]) # 正北方向得角度\n",
    "        #northRotation = 90\n",
    "        angle = (540 - northRotation)%360 - northRotation  # 旋转角度 = 摄影师的方向[(360+180-正北的方向)%360]-正北的方向\n",
    "\n",
    "        # 计算仿射变换矩阵\n",
    "        M = cv2.getRotationMatrix2D((center_x, center_y), angle, 1)\n",
    "\n",
    "        # 进行仿射变换\n",
    "        dst = cv2.warpAffine(img_flipped, M, (width, height))\n",
    "\n",
    "        file_name = file_name+\".jpg\"\n",
    "        savePath = os.path.join(save_folder,file_name)\n",
    "        cv2.imwrite(savePath,dst)"
   ]
  },
  {
   "cell_type": "code",
   "execution_count": null,
   "id": "e8b14d47",
   "metadata": {},
   "outputs": [],
   "source": []
  },
  {
   "cell_type": "code",
   "execution_count": null,
   "id": "77e56420",
   "metadata": {},
   "outputs": [],
   "source": []
  }
 ],
 "metadata": {
  "kernelspec": {
   "display_name": "py37",
   "language": "python",
   "name": "python3"
  },
  "language_info": {
   "codemirror_mode": {
    "name": "ipython",
    "version": 3
   },
   "file_extension": ".py",
   "mimetype": "text/x-python",
   "name": "python",
   "nbconvert_exporter": "python",
   "pygments_lexer": "ipython3",
   "version": "3.7.16"
  }
 },
 "nbformat": 4,
 "nbformat_minor": 5
}
