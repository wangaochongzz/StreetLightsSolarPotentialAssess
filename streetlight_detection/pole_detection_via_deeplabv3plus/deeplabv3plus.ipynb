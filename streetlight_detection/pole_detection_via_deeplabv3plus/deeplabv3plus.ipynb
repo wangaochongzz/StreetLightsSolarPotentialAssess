{
 "cells": [
  {
   "cell_type": "code",
   "execution_count": 5,
   "id": "c9c5d85c",
   "metadata": {},
   "outputs": [],
   "source": [
    "import mxnet as mx\n",
    "from mxnet import image\n",
    "import gluoncv\n",
    "import matplotlib.pyplot as plt\n",
    "from gluoncv.data.transforms.presets.segmentation import test_transform\n",
    "from gluoncv.utils.viz import get_color_pallete,plot_image\n",
    "import matplotlib.image as mpimg\n",
    "import numpy as np\n",
    "import math\n",
    "from PIL import Image\n",
    "from tqdm import tqdm\n",
    "import os\n",
    "\n",
    "# 源文件夹路径\n",
    "source_folder = r\"C:\\Users\\wac\\Desktop\\test0902\"\n",
    "# 目标文件夹路径\n",
    "save_folder1 = r\"C:\\Users\\wac\\Desktop\\test0902\\test718_deeplab_resnest101_ade1\"\n",
    "save_folder2 = r\"C:\\Users\\wac\\Desktop\\test0902\\test718_deeplab_resnest101_ade2\"\n",
    "save_folder3 = r\"C:\\Users\\wac\\Desktop\\test0902\\test718_deeplab_resnest101_ade3\"\n",
    "save_folder4 = r\"C:\\Users\\wac\\Desktop\\test0902\\test718_deeplab_resnest101_ade4\"\n",
    "\n",
    "if not os.path.exists(save_folder1):\n",
    "    os.mkdir(save_folder1)\n",
    "if not os.path.exists(save_folder2):\n",
    "    os.mkdir(save_folder2)\n",
    "if not os.path.exists(save_folder3):\n",
    "    os.mkdir(save_folder3)\n",
    "if not os.path.exists(save_folder4):\n",
    "    os.mkdir(save_folder4)"
   ]
  },
  {
   "cell_type": "code",
   "execution_count": 6,
   "id": "250387ba",
   "metadata": {},
   "outputs": [
    {
     "data": {
      "text/plain": [
       "dict_keys(['resnet18_v1', 'resnet34_v1', 'resnet50_v1', 'resnet101_v1', 'resnet152_v1', 'resnet18_v2', 'resnet34_v2', 'resnet50_v2', 'resnet101_v2', 'resnet152_v2', 'resnest14', 'resnest26', 'resnest50', 'resnest101', 'resnest200', 'resnest269', 'se_resnet18_v1', 'se_resnet34_v1', 'se_resnet50_v1', 'se_resnet101_v1', 'se_resnet152_v1', 'se_resnet18_v2', 'se_resnet34_v2', 'se_resnet50_v2', 'se_resnet101_v2', 'se_resnet152_v2', 'vgg11', 'vgg13', 'vgg16', 'vgg19', 'vgg11_bn', 'vgg13_bn', 'vgg16_bn', 'vgg19_bn', 'alexnet', 'densenet121', 'densenet161', 'densenet169', 'densenet201', 'shufflenet_v1', 'shufflenet_v2', 'squeezenet1.0', 'squeezenet1.1', 'googlenet', 'inceptionv3', 'xception', 'xception71', 'mobilenet1.0', 'mobilenet0.75', 'mobilenet0.5', 'mobilenet0.25', 'mobilenetv2_1.0', 'mobilenetv2_0.75', 'mobilenetv2_0.5', 'mobilenetv2_0.25', 'mobilenetv3_large', 'mobilenetv3_small', 'mobile_pose_resnet18_v1b', 'mobile_pose_resnet50_v1b', 'mobile_pose_mobilenet1.0', 'mobile_pose_mobilenetv2_1.0', 'mobile_pose_mobilenetv3_large', 'mobile_pose_mobilenetv3_small', 'ssd_300_vgg16_atrous_voc', 'ssd_300_vgg16_atrous_coco', 'ssd_300_vgg16_atrous_custom', 'ssd_512_vgg16_atrous_voc', 'ssd_512_vgg16_atrous_coco', 'ssd_512_vgg16_atrous_custom', 'ssd_512_resnet18_v1_voc', 'ssd_512_resnet18_v1_coco', 'ssd_512_resnet50_v1_voc', 'ssd_512_resnet50_v1_coco', 'ssd_512_resnet50_v1_custom', 'ssd_512_resnet101_v2_voc', 'ssd_512_resnet152_v2_voc', 'ssd_512_mobilenet1.0_voc', 'ssd_512_mobilenet1.0_coco', 'ssd_300_mobilenet1.0_lite_coco', 'ssd_512_mobilenet1.0_custom', 'ssd_300_mobilenet0.25_voc', 'ssd_300_mobilenet0.25_coco', 'ssd_300_mobilenet0.25_custom', 'ssd_300_resnet34_v1b_voc', 'ssd_300_resnet34_v1b_coco', 'ssd_300_resnet34_v1b_custom', 'faster_rcnn_resnet50_v1b_voc', 'mask_rcnn_resnet18_v1b_coco', 'faster_rcnn_resnet50_v1b_coco', 'doublehead_rcnn_resnet50_v1b_voc', 'faster_rcnn_fpn_resnet50_v1b_coco', 'faster_rcnn_fpn_syncbn_resnet50_v1b_coco', 'faster_rcnn_fpn_syncbn_resnest50_coco', 'faster_rcnn_resnet50_v1b_custom', 'faster_rcnn_resnet101_v1d_voc', 'faster_rcnn_resnet101_v1d_coco', 'faster_rcnn_fpn_resnet101_v1d_coco', 'faster_rcnn_fpn_syncbn_resnet101_v1d_coco', 'faster_rcnn_fpn_syncbn_resnest101_coco', 'faster_rcnn_resnet101_v1d_custom', 'faster_rcnn_fpn_syncbn_resnest269_coco', 'custom_faster_rcnn_fpn', 'mask_rcnn_resnet50_v1b_coco', 'mask_rcnn_fpn_resnet50_v1b_coco', 'mask_rcnn_resnet101_v1d_coco', 'mask_rcnn_fpn_resnet101_v1d_coco', 'mask_rcnn_fpn_resnet18_v1b_coco', 'mask_rcnn_fpn_syncbn_resnet18_v1b_coco', 'mask_rcnn_fpn_syncbn_mobilenet1_0_coco', 'custom_mask_rcnn_fpn', 'cifar_resnet20_v1', 'cifar_resnet56_v1', 'cifar_resnet110_v1', 'cifar_resnet20_v2', 'cifar_resnet56_v2', 'cifar_resnet110_v2', 'cifar_wideresnet16_10', 'cifar_wideresnet28_10', 'cifar_wideresnet40_8', 'cifar_resnext29_32x4d', 'cifar_resnext29_16x64d', 'fcn_resnet50_voc', 'fcn_resnet101_coco', 'fcn_resnet101_voc', 'fcn_resnet50_ade', 'fcn_resnet101_ade', 'psp_resnet101_coco', 'psp_resnet101_voc', 'psp_resnet50_ade', 'psp_resnet101_ade', 'psp_resnet101_citys', 'deeplab_resnet101_coco', 'deeplab_resnet101_voc', 'deeplab_resnet152_coco', 'deeplab_resnet152_voc', 'deeplab_resnet50_ade', 'deeplab_resnet101_ade', 'deeplab_resnest50_ade', 'deeplab_resnest101_ade', 'deeplab_resnest200_ade', 'deeplab_resnest269_ade', 'deeplab_resnet50_citys', 'deeplab_resnet101_citys', 'deeplab_v3b_plus_wideresnet_citys', 'icnet_resnet50_citys', 'icnet_resnet50_mhpv1', 'fastscnn_citys', 'danet_resnet50_citys', 'danet_resnet101_citys', 'resnet18_v1b', 'resnet34_v1b', 'resnet50_v1b', 'resnet50_v1b_gn', 'resnet101_v1b_gn', 'resnet101_v1b', 'resnet152_v1b', 'resnet50_v1c', 'resnet101_v1c', 'resnet152_v1c', 'resnet50_v1d', 'resnet101_v1d', 'resnet152_v1d', 'resnet50_v1e', 'resnet101_v1e', 'resnet152_v1e', 'resnet50_v1s', 'resnet101_v1s', 'resnet152_v1s', 'resnext50_32x4d', 'resnext101_32x4d', 'resnext101_64x4d', 'resnext101e_64x4d', 'se_resnext50_32x4d', 'se_resnext101_32x4d', 'se_resnext101_64x4d', 'se_resnext101e_64x4d', 'senet_154', 'senet_154e', 'darknet53', 'yolo3_darknet53_coco', 'yolo3_darknet53_voc', 'yolo3_darknet53_custom', 'yolo3_mobilenet1.0_coco', 'yolo3_mobilenet1.0_voc', 'yolo3_mobilenet1.0_custom', 'yolo3_mobilenet0.25_coco', 'yolo3_mobilenet0.25_voc', 'yolo3_mobilenet0.25_custom', 'nasnet_4_1056', 'nasnet_5_1538', 'nasnet_7_1920', 'nasnet_6_4032', 'simple_pose_resnet18_v1b', 'simple_pose_resnet50_v1b', 'simple_pose_resnet101_v1b', 'simple_pose_resnet152_v1b', 'simple_pose_resnet50_v1d', 'simple_pose_resnet101_v1d', 'simple_pose_resnet152_v1d', 'residualattentionnet56', 'residualattentionnet92', 'residualattentionnet128', 'residualattentionnet164', 'residualattentionnet200', 'residualattentionnet236', 'residualattentionnet452', 'cifar_residualattentionnet56', 'cifar_residualattentionnet92', 'cifar_residualattentionnet452', 'resnet18_v1b_0.89', 'resnet50_v1d_0.86', 'resnet50_v1d_0.48', 'resnet50_v1d_0.37', 'resnet50_v1d_0.11', 'resnet101_v1d_0.76', 'resnet101_v1d_0.73', 'mobilenet1.0_int8', 'resnet50_v1_int8', 'ssd_300_vgg16_atrous_voc_int8', 'ssd_512_mobilenet1.0_voc_int8', 'ssd_512_resnet50_v1_voc_int8', 'ssd_512_vgg16_atrous_voc_int8', 'alpha_pose_resnet101_v1b_coco', 'vgg16_ucf101', 'vgg16_hmdb51', 'vgg16_kinetics400', 'vgg16_sthsthv2', 'inceptionv1_ucf101', 'inceptionv1_hmdb51', 'inceptionv1_kinetics400', 'inceptionv1_sthsthv2', 'inceptionv3_ucf101', 'inceptionv3_hmdb51', 'inceptionv3_kinetics400', 'inceptionv3_sthsthv2', 'c3d_kinetics400', 'p3d_resnet50_kinetics400', 'p3d_resnet101_kinetics400', 'r2plus1d_resnet18_kinetics400', 'r2plus1d_resnet34_kinetics400', 'r2plus1d_resnet50_kinetics400', 'r2plus1d_resnet101_kinetics400', 'r2plus1d_resnet152_kinetics400', 'i3d_resnet50_v1_ucf101', 'i3d_resnet50_v1_hmdb51', 'i3d_resnet50_v1_kinetics400', 'i3d_resnet50_v1_sthsthv2', 'i3d_resnet50_v1_custom', 'i3d_resnet101_v1_kinetics400', 'i3d_inceptionv1_kinetics400', 'i3d_inceptionv3_kinetics400', 'i3d_nl5_resnet50_v1_kinetics400', 'i3d_nl10_resnet50_v1_kinetics400', 'i3d_nl5_resnet101_v1_kinetics400', 'i3d_nl10_resnet101_v1_kinetics400', 'slowfast_4x16_resnet50_kinetics400', 'slowfast_4x16_resnet50_custom', 'slowfast_8x8_resnet50_kinetics400', 'slowfast_4x16_resnet101_kinetics400', 'slowfast_8x8_resnet101_kinetics400', 'slowfast_16x8_resnet101_kinetics400', 'slowfast_16x8_resnet101_50_50_kinetics400', 'resnet18_v1b_kinetics400', 'resnet34_v1b_kinetics400', 'resnet50_v1b_kinetics400', 'resnet101_v1b_kinetics400', 'resnet152_v1b_kinetics400', 'resnet18_v1b_sthsthv2', 'resnet34_v1b_sthsthv2', 'resnet50_v1b_sthsthv2', 'resnet101_v1b_sthsthv2', 'resnet152_v1b_sthsthv2', 'resnet50_v1b_ucf101', 'resnet50_v1b_hmdb51', 'resnet50_v1b_custom', 'resnet18_v1b_custom', 'fcn_resnet101_voc_int8', 'fcn_resnet101_coco_int8', 'psp_resnet101_voc_int8', 'psp_resnet101_coco_int8', 'deeplab_resnet101_voc_int8', 'deeplab_resnet101_coco_int8', 'center_net_resnet18_v1b_voc', 'center_net_resnet18_v1b_dcnv2_voc', 'center_net_resnet18_v1b_coco', 'center_net_resnet18_v1b_dcnv2_coco', 'center_net_resnet50_v1b_voc', 'center_net_resnet50_v1b_dcnv2_voc', 'center_net_resnet50_v1b_coco', 'center_net_resnet50_v1b_dcnv2_coco', 'center_net_resnet101_v1b_voc', 'center_net_resnet101_v1b_dcnv2_voc', 'center_net_resnet101_v1b_coco', 'center_net_resnet101_v1b_dcnv2_coco', 'center_net_dla34_voc', 'center_net_dla34_dcnv2_voc', 'center_net_dla34_coco', 'center_net_dla34_dcnv2_coco', 'center_net_mobilenetv3_large_duc_voc', 'center_net_mobilenetv3_large_duc_coco', 'center_net_mobilenetv3_small_duc_voc', 'center_net_mobilenetv3_small_duc_coco', 'dla34', 'simple_pose_resnet18_v1b_int8', 'simple_pose_resnet50_v1b_int8', 'simple_pose_resnet50_v1d_int8', 'simple_pose_resnet101_v1b_int8', 'simple_pose_resnet101_v1d_int8', 'vgg16_ucf101_int8', 'inceptionv3_ucf101_int8', 'resnet18_v1b_kinetics400_int8', 'resnet50_v1b_kinetics400_int8', 'inceptionv3_kinetics400_int8', 'hrnet_w18_c', 'hrnet_w18_small_v1_c', 'hrnet_w18_small_v2_c', 'hrnet_w30_c', 'hrnet_w32_c', 'hrnet_w40_c', 'hrnet_w44_c', 'hrnet_w48_c', 'hrnet_w64_c', 'hrnet_w18_small_v1_s', 'hrnet_w18_small_v2_s', 'hrnet_w48_s', 'siamrpn_alexnet_v2_otb15', 'monodepth2_resnet18_kitti_stereo_640x192', 'monodepth2_resnet18_kitti_mono_640x192', 'monodepth2_resnet18_kitti_mono_stereo_640x192', 'monodepth2_resnet18_posenet_kitti_mono_640x192', 'monodepth2_resnet18_posenet_kitti_mono_stereo_640x192', 'i3d_slow_resnet101_f16s4_kinetics700'])"
      ]
     },
     "execution_count": 6,
     "metadata": {},
     "output_type": "execute_result"
    }
   ],
   "source": [
    "# using cpu\n",
    "ctx = mx.cpu()\n",
    "model_list = gluoncv.model_zoo.get_model_list()\n",
    "model_list"
   ]
  },
  {
   "cell_type": "code",
   "execution_count": 7,
   "id": "7fa6bedd",
   "metadata": {},
   "outputs": [],
   "source": [
    "model1 = gluoncv.model_zoo.get_model('deeplab_resnest101_ade', pretrained=True)"
   ]
  },
  {
   "cell_type": "code",
   "execution_count": 3,
   "id": "63c832af",
   "metadata": {},
   "outputs": [],
   "source": [
    "model2 = gluoncv.model_zoo.get_model('deeplab_resnet101_citys', pretrained=True)"
   ]
  },
  {
   "cell_type": "code",
   "execution_count": 6,
   "id": "d5258477",
   "metadata": {},
   "outputs": [
    {
     "name": "stdout",
     "output_type": "stream",
     "text": [
      "Downloading C:\\Users\\wac\\.mxnet/models\\resnet18_v1b-2d9d980c.zip from https://apache-mxnet.s3-accelerate.dualstack.amazonaws.com/gluon/models/resnet18_v1b-2d9d980c.zip...\n"
     ]
    },
    {
     "name": "stderr",
     "output_type": "stream",
     "text": [
      "42433KB [00:02, 18569.77KB/s]                           \n"
     ]
    },
    {
     "name": "stdout",
     "output_type": "stream",
     "text": [
      "Downloading C:\\Users\\wac/.mxnet/models\\monodepth2_resnet18_posenet_kitti_mono_stereo_640x192-c14979bb.zip from https://apache-mxnet.s3-accelerate.dualstack.amazonaws.com/gluon/models/monodepth2_resnet18_posenet_kitti_mono_stereo_640x192-c14979bb.zip...\n"
     ]
    },
    {
     "name": "stderr",
     "output_type": "stream",
     "text": [
      "56017KB [00:03, 17833.34KB/s]                           \n"
     ]
    }
   ],
   "source": [
    "model3 = gluoncv.model_zoo.get_model('monodepth2_resnet18_posenet_kitti_mono_stereo_640x192', pretrained=True)"
   ]
  },
  {
   "cell_type": "code",
   "execution_count": 8,
   "id": "fffbc304",
   "metadata": {},
   "outputs": [
    {
     "name": "stderr",
     "output_type": "stream",
     "text": [
      "100%|██████████| 5/5 [00:18<00:00,  3.63s/it]\n"
     ]
    }
   ],
   "source": [
    "for imgName in tqdm(os.listdir(source_folder)):\n",
    "    # 判断是否为照片\n",
    "    if imgName.endswith(\".jpg\") or imgName.endswith(\".png\"):\n",
    "        imgPath = os.path.join(source_folder,imgName)\n",
    "        img = image.imread(imgPath)\n",
    "        img = test_transform(img,ctx)\n",
    "        output = model1.predict(img)\n",
    "        predict = mx.nd.squeeze(mx.nd.argmax(output, 1)).asnumpy()\n",
    "        #print(predict)\n",
    "\n",
    "        # 保存predict到save_folder中\n",
    "        save_file_name = os.path.splitext(imgName)[0] + \".npy\"\n",
    "        save_path1 = os.path.join(save_folder1, save_file_name)\n",
    "        np.save(save_path1, predict)\n",
    "\n",
    "        # 保存图像1到save_folder1\n",
    "        save_path2 = os.path.join(save_folder2,imgName)\n",
    "        #mask = get_color_pallete(predict, 'citys')\n",
    "        mask = get_color_pallete(predict, 'ade20k')\n",
    "        mask = mask.convert('RGB')\n",
    "        mask.save(save_path2, 'JPEG')\n",
    "        \n",
    "        # 保存图像2到save_folder2\n",
    "        # 创建一个新的RGB图像，将预测中值为10的像素设为白色(255,255,255)，其他设为灰色(128,128,128)\n",
    "        sky_image = Image.fromarray(np.zeros_like(predict, dtype=np.uint8), mode='L').convert('RGB')\n",
    "        sky_image_array = np.array(sky_image)\n",
    "        sky_image_array[(predict != 2)] = (128, 128, 128)\n",
    "        # 将预测中值为2的像素设为白色(255,255,255)\n",
    "        sky_image_array[predict == 2] = (255, 255, 255)\n",
    "        # 更新图像\n",
    "        sky_image = Image.fromarray(sky_image_array, mode='RGB')\n",
    "        # 保存图像到目标文件夹\n",
    "        save_path3 = os.path.join(save_folder3, imgName)\n",
    "        sky_image.save(save_path3)\n",
    "       \n",
    "        # 保存图像3到save_folder3\n",
    "                                                                                                                                                                                                                                                \n",
    "        sl_image = Image.fromarray(np.zeros_like(predict, dtype=np.uint8), mode='L').convert('RGB')\n",
    "        sl_image_array = np.array(sl_image)\n",
    "        sl_image_array[(predict != 87)] = (128, 128, 128)\n",
    "        sl_image_array[predict == 87] = (0, 0, 255)\n",
    "        sl_image = Image.fromarray(sl_image_array, mode='RGB')\n",
    "        save_path4 = os.path.join(save_folder4, imgName)\n",
    "        sl_image.save(save_path4)\n",
    "\n",
    "                   \n"
   ]
  },
  {
   "cell_type": "code",
   "execution_count": null,
   "id": "f2299b06",
   "metadata": {},
   "outputs": [],
   "source": []
  },
  {
   "cell_type": "code",
   "execution_count": null,
   "id": "e312d4fe",
   "metadata": {},
   "outputs": [],
   "source": []
  }
 ],
 "metadata": {
  "kernelspec": {
   "display_name": "Python 3 (ipykernel)",
   "language": "python",
   "name": "python3"
  },
  "language_info": {
   "codemirror_mode": {
    "name": "ipython",
    "version": 3
   },
   "file_extension": ".py",
   "mimetype": "text/x-python",
   "name": "python",
   "nbconvert_exporter": "python",
   "pygments_lexer": "ipython3",
   "version": "3.7.16"
  }
 },
 "nbformat": 4,
 "nbformat_minor": 5
}
